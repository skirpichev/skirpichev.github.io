{
 "cells": [
  {
   "cell_type": "markdown",
   "metadata": {},
   "source": [
    "Write your post here."
   ]
  },
  {
   "cell_type": "code",
   "execution_count": 1,
   "metadata": {},
   "outputs": [],
   "source": [
    "from diofant import *\n",
    "from diofant.abc import x"
   ]
  },
  {
   "cell_type": "code",
   "execution_count": 2,
   "metadata": {},
   "outputs": [],
   "source": [
    "p = x**7 + sqrt(2)*x - I\n",
    "r1 = RootOf(p, 1)"
   ]
  },
  {
   "cell_type": "code",
   "execution_count": 3,
   "metadata": {},
   "outputs": [
    {
     "data": {
      "text/latex": [
       "\\begin{equation}\\mathrm{False}\\end{equation}"
      ],
      "text/plain": [
       "False"
      ]
     },
     "execution_count": 3,
     "metadata": {},
     "output_type": "execute_result"
    }
   ],
   "source": [
    "r1.is_real"
   ]
  },
  {
   "cell_type": "code",
   "execution_count": 4,
   "metadata": {},
   "outputs": [
    {
     "data": {
      "text/latex": [
       "\\begin{equation}\\mathrm{False}\\end{equation}"
      ],
      "text/plain": [
       "False"
      ]
     },
     "execution_count": 4,
     "metadata": {},
     "output_type": "execute_result"
    }
   ],
   "source": [
    "r1.is_imaginary"
   ]
  },
  {
   "cell_type": "markdown",
   "metadata": {},
   "source": [
    "... it's a complex number"
   ]
  },
  {
   "cell_type": "code",
   "execution_count": 5,
   "metadata": {},
   "outputs": [
    {
     "data": {
      "text/latex": [
       "\\begin{equation}-0.938939892790381 - 0.622375271319501 i\\end{equation}"
      ],
      "text/plain": [
       "-0.938939892790381 - 0.622375271319501⋅ⅈ"
      ]
     },
     "execution_count": 5,
     "metadata": {},
     "output_type": "execute_result"
    }
   ],
   "source": [
    "r1.evalf()"
   ]
  },
  {
   "cell_type": "code",
   "execution_count": 6,
   "metadata": {},
   "outputs": [
    {
     "data": {
      "text/latex": [
       "\\begin{equation}\\left [ -0.966114667772369 + 0.416533257705247 i, \\quad -0.938939892790381 - 0.622375271319501 i, \\quad -0.111375557241875 + 0.779695119900266 i, \\quad - 1.14770621257202 i, \\quad 0.111375557241875 + 0.779695119900266 i, \\quad 0.938939892790381 - 0.622375271319501 i, \\quad 0.966114667772369 + 0.416533257705247 i\\right ]\\end{equation}"
      ],
      "text/plain": [
       "[-0.966114667772369 + 0.416533257705247⋅ⅈ, -0.938939892790381 - 0.622375271319\n",
       "501⋅ⅈ, -0.111375557241875 + 0.779695119900266⋅ⅈ, -1.14770621257202⋅ⅈ, 0.111375\n",
       "557241875 + 0.779695119900266⋅ⅈ, 0.938939892790381 - 0.622375271319501⋅ⅈ, 0.96\n",
       "6114667772369 + 0.416533257705247⋅ⅈ]"
      ]
     },
     "execution_count": 6,
     "metadata": {},
     "output_type": "execute_result"
    }
   ],
   "source": [
    "nroots(p)"
   ]
  },
  {
   "cell_type": "code",
   "execution_count": 7,
   "metadata": {},
   "outputs": [
    {
     "data": {
      "text/latex": [
       "\\begin{equation}\\mathrm{False}\\end{equation}"
      ],
      "text/plain": [
       "False"
      ]
     },
     "execution_count": 7,
     "metadata": {},
     "output_type": "execute_result"
    }
   ],
   "source": [
    "_5 in _6"
   ]
  },
  {
   "cell_type": "code",
   "execution_count": 8,
   "metadata": {},
   "outputs": [
    {
     "data": {
      "text/latex": [
       "\\begin{equation}\\mathrm{True}\\end{equation}"
      ],
      "text/plain": [
       "True"
      ]
     },
     "execution_count": 8,
     "metadata": {},
     "output_type": "execute_result"
    }
   ],
   "source": [
    "str(_5) in [str(_) for _ in _6]"
   ]
  },
  {
   "cell_type": "code",
   "execution_count": null,
   "metadata": {},
   "outputs": [],
   "source": []
  }
 ],
 "metadata": {
  "kernelspec": {
   "display_name": "Diofant (dev)",
   "language": "python",
   "name": "dev"
  },
  "language_info": {
   "codemirror_mode": {
    "name": "ipython",
    "version": 3
   },
   "file_extension": ".py",
   "mimetype": "text/x-python",
   "name": "python",
   "nbconvert_exporter": "python",
   "pygments_lexer": "ipython3",
   "version": "3.7.2+"
  },
  "nikola": {
   "category": "",
   "date": "2019-02-22 13:22:30 UTC+03:00",
   "description": "",
   "link": "",
   "slug": "untitled",
   "tags": "testing",
   "title": "Test notebook",
   "type": "text"
  }
 },
 "nbformat": 4,
 "nbformat_minor": 2
}
